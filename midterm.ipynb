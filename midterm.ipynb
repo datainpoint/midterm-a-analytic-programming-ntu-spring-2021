{
 "cells": [
  {
   "cell_type": "markdown",
   "metadata": {
    "deletable": false,
    "editable": false
   },
   "source": [
    "## Analytic Programming\n",
    "\n",
    "> Midterm A: Analytic Programming, NTU, Spring, 2021.\n",
    "\n",
    "Kuo, Yao-Jen <yaojenkuo@ntu.edu.tw> from [DATAINPOINT](https://www.datainpoint.com)"
   ]
  },
  {
   "cell_type": "markdown",
   "metadata": {
    "deletable": false,
    "editable": false
   },
   "source": [
    "## Instructions\n",
    "\n",
    "- We've imported necessary modules/libraries at the beginning of each exercise.\n",
    "- We've put necessary files(if any) in the working directory of each exercise.\n",
    "- We've defined the names of functions/inputs/arguments for you.\n",
    "- Write down your solution between the comments `### BEGIN SOLUTION` and `### END SOLUTION`.\n",
    "- Running tests to see if your solutions are right: Kernel -> Restart & Run All -> Restart and Run All Cells.\n",
    "- You can run tests after each question or after finishing all questions.\n",
    "- REMEMBER to upload your `.ipynb` file to CEIBA when you are done running tests."
   ]
  },
  {
   "cell_type": "code",
   "execution_count": 1,
   "metadata": {
    "deletable": false,
    "editable": false
   },
   "outputs": [],
   "source": [
    "import json\n",
    "import unittest"
   ]
  },
  {
   "cell_type": "markdown",
   "metadata": {},
   "source": [
    "## 00. Define a function named `extract_all_coaches` that is able to extract the essential information of all coaches including head coaches and assistant coaches from `coaches.json`.\n",
    "\n",
    "- Expected inputs: a file `coaches.json`.\n",
    "- Expected outputs: a list.\n",
    "\n",
    "```\n",
    "[\n",
    "    {'firstName': 'Doc',\n",
    "     'lastName': 'Rivers',\n",
    "     'isAssistant': False,\n",
    "     'teamTricode': 'PHI'},\n",
    "     ...,\n",
    "    {'firstName': 'Mike',\n",
    "     'lastName': 'Terpstra',\n",
    "     'isAssistant': True,\n",
    "     'teamTricode': 'WAS'}\n",
    "]\n",
    "```"
   ]
  },
  {
   "cell_type": "code",
   "execution_count": 2,
   "metadata": {},
   "outputs": [],
   "source": [
    "def extract_all_coaches(coaches_json):\n",
    "    \"\"\"\n",
    "    >>> all_coaches = extract_all_coaches('coaches.json')\n",
    "    >>> type(all_coaches)\n",
    "    list\n",
    "    >>> len(all_coaches)\n",
    "    240\n",
    "    >>> all_coaches[0]\n",
    "    {'firstName': 'Doc',\n",
    "     'lastName': 'Rivers',\n",
    "     'isAssistant': False,\n",
    "     'teamTricode': 'PHI'}\n",
    "    >>> all_coaches[-1]\n",
    "    {'firstName': 'Mike',\n",
    "     'lastName': 'Terpstra',\n",
    "     'isAssistant': True,\n",
    "     'teamTricode': 'WAS'}\n",
    "    \"\"\"\n",
    "    ### BEGIN SOLUTION\n",
    "    \n",
    "    ### END SOLUTION"
   ]
  },
  {
   "cell_type": "markdown",
   "metadata": {},
   "source": [
    "## 01. Define a function named `extract_head_coaches` that is able to extract head coaches from `coaches.json`.\n",
    "\n",
    "- Expected inputs: a file `coaches.json`.\n",
    "- Expected outputs: a dictionary.\n",
    "\n",
    "```\n",
    "{\n",
    "    'PHI': 'Doc Rivers',\n",
    "    'BKN': 'Steve Nash',\n",
    "    'SAS': 'Gregg Popovich',\n",
    "    ...\n",
    "}\n",
    "```"
   ]
  },
  {
   "cell_type": "code",
   "execution_count": 3,
   "metadata": {},
   "outputs": [],
   "source": [
    "def extract_head_coaches(coaches_json):\n",
    "    \"\"\"\n",
    "    >>> head_coaches = extract_head_coaches('coaches.json')\n",
    "    >>> type(head_coaches)\n",
    "    dict\n",
    "    >>> len(head_coaches)\n",
    "    30\n",
    "    >>> head_coaches['PHI']\n",
    "    'Doc Rivers'\n",
    "    >>> head_coaches['BKN']\n",
    "    'Steve Nash'\n",
    "    >>> head_coaches['SAS']\n",
    "    'Gregg Popovich'\n",
    "    \"\"\"\n",
    "    ### BEGIN SOLUTION\n",
    "    \n",
    "    ### END SOLUTION"
   ]
  },
  {
   "cell_type": "markdown",
   "metadata": {},
   "source": [
    "## 02. Define a function named `find_tallest_shortest_players` that is able to find the tallest and the shortest NBA players from `players.json`.\n",
    "\n",
    "PS Skip those players whose `heightMeters` is an empty string.\n",
    "\n",
    "- Expected inputs: a file `players.json`.\n",
    "- Expected outputs: a dictionary.\n",
    "\n",
    "```\n",
    "{\n",
    "    'tallest': {'heightMeters': max_height_meters,\n",
    "                'players': [tallest_players, ...]},\n",
    "    'shortest': {'heightMeters': min_height_meters,\n",
    "                 'players': [shortest_players, ...]}\n",
    "}\n",
    "```"
   ]
  },
  {
   "cell_type": "code",
   "execution_count": 4,
   "metadata": {},
   "outputs": [],
   "source": [
    "def find_tallest_shortest_players(players_json):\n",
    "    \"\"\"\n",
    "    >>> tallest_shortest_players = find_tallest_shortest_players('players.json')\n",
    "    >>> type(tallest_shortest_players)\n",
    "    dict\n",
    "    >>> tallest_shortest_players['tallest']['heightMeters']\n",
    "    2.26\n",
    "    >>> tallest_shortest_players['tallest']['players']\n",
    "    ['Tacko Fall']\n",
    "    >>> tallest_shortest_players['shortest']['heightMeters']\n",
    "    1.78\n",
    "    >>> tallest_shortest_players['shortest']['players']\n",
    "    ['Facundo Campazzo', 'Jared Harper', 'Markus Howard', 'Tremont Waters']\n",
    "    \"\"\"\n",
    "    ### BEGIN SOLUTION\n",
    "    \n",
    "    ### END SOLUTION"
   ]
  },
  {
   "cell_type": "markdown",
   "metadata": {},
   "source": [
    "## 03. Define a function named `find_lakers_nets_players`  that is able to find the players who played for the Los Angeles Lakers and the Brooklyn Nets from `players.json` and `teams.json`.\n",
    "\n",
    "- Expected inputs: two files `players.json` and `teams.json`.\n",
    "- Expected outputs: a dictionary.\n",
    "\n",
    "```\n",
    "{\n",
    "    'Los Angeles Lakers': ['Kostas Antetokounmpo', ...],\n",
    "    'Brooklyn Nets': ['LaMarcus Aldridge', ...]\n",
    "}\n",
    "```"
   ]
  },
  {
   "cell_type": "code",
   "execution_count": 5,
   "metadata": {},
   "outputs": [],
   "source": [
    "def find_lakers_nets_players(players_json, teams_json):\n",
    "    \"\"\"\n",
    "    >>> lakers_nets_players = find_lakers_nets_players('players.json', 'teams.json')\n",
    "    >>> type(lakers_nets_players)\n",
    "    dict\n",
    "    >>> len(lakers_nets_players['Los Angeles Lakers'])\n",
    "    17\n",
    "    >>> len(lakers_nets_players['Brooklyn Nets'])\n",
    "    17\n",
    "    >>> lakers_nets_players['Los Angeles Lakers'][0]\n",
    "    'Kostas Antetokounmpo'\n",
    "    >>> lakers_nets_players['Los Angeles Lakers'][1]\n",
    "    'Devontae Cacok'\n",
    "    >>> lakers_nets_players['Brooklyn Nets'][0]\n",
    "    'LaMarcus Aldridge'\n",
    "    >>> lakers_nets_players['Brooklyn Nets'][1]\n",
    "    'Bruce Brown'\n",
    "    \"\"\"\n",
    "    ### BEGIN SOLUTION\n",
    "    \n",
    "    ### END SOLUTION"
   ]
  },
  {
   "cell_type": "markdown",
   "metadata": {},
   "source": [
    "## 04. Define a function named `find_nets_coaches_players`  that is able to find the coaches and players of the Brooklyn Nets from `coaches.json`, `players.json`, and `teams.json`.\n",
    "\n",
    "- Expected inputs: three files `coaches.json`, `players.json`, and `teams.json`.\n",
    "- Expected outputs: a dictionary.\n",
    "\n",
    "```\n",
    "{\n",
    "    'headCoach': head_coach,\n",
    "    'assistantCoaches': [assistant_coaches, ...],\n",
    "    'players': [players, ...]\n",
    "}\n",
    "```"
   ]
  },
  {
   "cell_type": "code",
   "execution_count": 6,
   "metadata": {},
   "outputs": [],
   "source": [
    "def find_nets_coaches_players(coaches_json, players_json, teams_json):\n",
    "    \"\"\"\n",
    "    >>> nets_coaches_players = find_nets_coaches_players('coaches.json', 'players.json', 'teams.json')\n",
    "    >>> type(nets_coaches_players)\n",
    "    dict\n",
    "    >>> nets_coaches_players['headCoach']\n",
    "    'Steve Nash'\n",
    "    >>> len(nets_coaches_players['assistantCoaches'])\n",
    "    10\n",
    "    >>> len(nets_coaches_players['players'])\n",
    "    17\n",
    "    >>> nets_coaches_players['assistantCoaches'][1]\n",
    "    \"Mike D'Antoni\"\n",
    "    >>> nets_coaches_players['players'][0]\n",
    "    'LaMarcus Aldridge'\n",
    "    \"\"\"\n",
    "    ### BEGIN SOLUTION\n",
    "    \n",
    "    ### END SOLUTION"
   ]
  },
  {
   "cell_type": "markdown",
   "metadata": {
    "deletable": false,
    "editable": false
   },
   "source": [
    "## Run tests!\n",
    "\n",
    "Kernel -> Restart & Run All. -> Restart And Run All Cells."
   ]
  },
  {
   "cell_type": "code",
   "execution_count": 7,
   "metadata": {
    "deletable": false,
    "editable": false
   },
   "outputs": [
    {
     "name": "stderr",
     "output_type": "stream",
     "text": [
      "test_00_extract_all_coaches (__main__.TestMidterm) ... FAIL\n",
      "test_01_extract_head_coaches (__main__.TestMidterm) ... FAIL\n",
      "test_02_find_tallest_shortest_players (__main__.TestMidterm) ... FAIL\n",
      "test_03_find_lakers_nets_players (__main__.TestMidterm) ... FAIL\n",
      "test_04_find_nets_coaches_players (__main__.TestMidterm) ... FAIL\n",
      "\n",
      "======================================================================\n",
      "FAIL: test_00_extract_all_coaches (__main__.TestMidterm)\n",
      "----------------------------------------------------------------------\n",
      "Traceback (most recent call last):\n",
      "  File \"<ipython-input-7-2848a8e165a2>\", line 4, in test_00_extract_all_coaches\n",
      "    self.assertIsInstance(all_coaches, list)\n",
      "AssertionError: None is not an instance of <class 'list'>\n",
      "\n",
      "======================================================================\n",
      "FAIL: test_01_extract_head_coaches (__main__.TestMidterm)\n",
      "----------------------------------------------------------------------\n",
      "Traceback (most recent call last):\n",
      "  File \"<ipython-input-7-2848a8e165a2>\", line 12, in test_01_extract_head_coaches\n",
      "    self.assertIsInstance(head_coaches, dict)\n",
      "AssertionError: None is not an instance of <class 'dict'>\n",
      "\n",
      "======================================================================\n",
      "FAIL: test_02_find_tallest_shortest_players (__main__.TestMidterm)\n",
      "----------------------------------------------------------------------\n",
      "Traceback (most recent call last):\n",
      "  File \"<ipython-input-7-2848a8e165a2>\", line 20, in test_02_find_tallest_shortest_players\n",
      "    self.assertIsInstance(tallest_shortest_players, dict)\n",
      "AssertionError: None is not an instance of <class 'dict'>\n",
      "\n",
      "======================================================================\n",
      "FAIL: test_03_find_lakers_nets_players (__main__.TestMidterm)\n",
      "----------------------------------------------------------------------\n",
      "Traceback (most recent call last):\n",
      "  File \"<ipython-input-7-2848a8e165a2>\", line 28, in test_03_find_lakers_nets_players\n",
      "    self.assertIsInstance(lakers_nets_players, dict)\n",
      "AssertionError: None is not an instance of <class 'dict'>\n",
      "\n",
      "======================================================================\n",
      "FAIL: test_04_find_nets_coaches_players (__main__.TestMidterm)\n",
      "----------------------------------------------------------------------\n",
      "Traceback (most recent call last):\n",
      "  File \"<ipython-input-7-2848a8e165a2>\", line 40, in test_04_find_nets_coaches_players\n",
      "    self.assertIsInstance(nets_coaches_players, dict)\n",
      "AssertionError: None is not an instance of <class 'dict'>\n",
      "\n",
      "----------------------------------------------------------------------\n",
      "Ran 5 tests in 0.023s\n",
      "\n",
      "FAILED (failures=5)\n"
     ]
    }
   ],
   "source": [
    "class TestMidterm(unittest.TestCase):\n",
    "    def test_00_extract_all_coaches(self):\n",
    "        all_coaches = extract_all_coaches('coaches.json')\n",
    "        self.assertIsInstance(all_coaches, list)\n",
    "        self.assertIsInstance(all_coaches[0], dict)\n",
    "        self.assertIsInstance(all_coaches[-1], dict)\n",
    "        self.assertEqual(len(all_coaches), 240)\n",
    "        self.assertEqual(len(all_coaches[0]), 4)\n",
    "        self.assertEqual(len(all_coaches[-1]), 4)\n",
    "    def test_01_extract_head_coaches(self):\n",
    "        head_coaches = extract_head_coaches('coaches.json')\n",
    "        self.assertIsInstance(head_coaches, dict)\n",
    "        self.assertEqual(len(head_coaches), 30)\n",
    "        self.assertEqual(head_coaches['PHI'], 'Doc Rivers')\n",
    "        self.assertEqual(head_coaches['BKN'], 'Steve Nash')\n",
    "        self.assertEqual(head_coaches['SAS'], 'Gregg Popovich')\n",
    "        self.assertEqual(head_coaches['GSW'], 'Steve Kerr')\n",
    "    def test_02_find_tallest_shortest_players(self):\n",
    "        tallest_shortest_players = find_tallest_shortest_players('players.json')\n",
    "        self.assertIsInstance(tallest_shortest_players, dict)\n",
    "        self.assertEqual(tallest_shortest_players['tallest']['heightMeters'], 2.26)\n",
    "        self.assertEqual(tallest_shortest_players['shortest']['heightMeters'], 1.78)\n",
    "        tallest_players = tallest_shortest_players['tallest']['players']\n",
    "        self.assertTrue('Tacko Fall' in tallest_players)\n",
    "        self.assertEqual(len(tallest_shortest_players['shortest']['players']), 4)\n",
    "    def test_03_find_lakers_nets_players(self):\n",
    "        lakers_nets_players = find_lakers_nets_players('players.json', 'teams.json')\n",
    "        self.assertIsInstance(lakers_nets_players, dict)\n",
    "        self.assertEqual(len(lakers_nets_players['Los Angeles Lakers']), 17)\n",
    "        self.assertEqual(len(lakers_nets_players['Brooklyn Nets']), 17)\n",
    "        lakers_players = lakers_nets_players['Los Angeles Lakers']\n",
    "        self.assertTrue('LeBron James' in lakers_players)\n",
    "        self.assertTrue('Anthony Davis' in lakers_players)\n",
    "        nets_players = lakers_nets_players['Brooklyn Nets']\n",
    "        self.assertTrue('Kevin Durant' in nets_players)\n",
    "        self.assertTrue('Kyrie Irving' in nets_players)\n",
    "        self.assertTrue('James Harden' in nets_players)\n",
    "    def test_04_find_nets_coaches_players(self):\n",
    "        nets_coaches_players = find_nets_coaches_players('coaches.json', 'players.json', 'teams.json')\n",
    "        self.assertIsInstance(nets_coaches_players, dict)\n",
    "        self.assertEqual(nets_coaches_players['headCoach'], 'Steve Nash')\n",
    "        self.assertTrue('Mike D\\'Antoni' in nets_coaches_players['assistantCoaches'])\n",
    "        self.assertTrue('Kevin Durant' in nets_coaches_players['players'])\n",
    "        self.assertTrue('Kyrie Irving' in nets_coaches_players['players'])\n",
    "        self.assertTrue('James Harden' in nets_coaches_players['players'])\n",
    "        \n",
    "suite = unittest.TestLoader().loadTestsFromTestCase(TestMidterm)\n",
    "runner = unittest.TextTestRunner(verbosity=2)\n",
    "test_results = runner.run(suite)\n",
    "number_of_failures = len(test_results.failures)\n",
    "number_of_errors = len(test_results.errors)\n",
    "number_of_test_runs = test_results.testsRun\n",
    "number_of_successes = number_of_test_runs - (number_of_failures + number_of_errors)"
   ]
  },
  {
   "cell_type": "code",
   "execution_count": 8,
   "metadata": {
    "deletable": false,
    "editable": false
   },
   "outputs": [
    {
     "name": "stdout",
     "output_type": "stream",
     "text": [
      "You've got 0 points among 5 questions.\n"
     ]
    }
   ],
   "source": [
    "print(\"You've got {} points among {} questions.\".format(number_of_successes * 3, number_of_test_runs))"
   ]
  }
 ],
 "metadata": {
  "kernelspec": {
   "display_name": "Python 3",
   "language": "python",
   "name": "python3"
  },
  "language_info": {
   "codemirror_mode": {
    "name": "ipython",
    "version": 3
   },
   "file_extension": ".py",
   "mimetype": "text/x-python",
   "name": "python",
   "nbconvert_exporter": "python",
   "pygments_lexer": "ipython3",
   "version": "3.8.5"
  }
 },
 "nbformat": 4,
 "nbformat_minor": 4
}
